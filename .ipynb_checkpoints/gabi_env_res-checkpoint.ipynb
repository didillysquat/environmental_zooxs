{
 "cells": [
  {
   "cell_type": "markdown",
   "metadata": {},
   "source": [
    "### Gabi's env_res project\n",
    "This notebook will document the processing of the data for Gabi's MSc. project that was collected some time ago by Maren.\n",
    "The samples that were collected were supposed to be used to characterise the zooxs present before during and after a bleaching episode but the bleaching never happened and so the sample collection was somewhat abandoned. The samples will now be repurposed and used by Gabi for her MSc project. The object of which will be to compare the diversity of ITS2 sequences found in the corals to those found in the environmental samples.\n",
    "\n",
    "Originally, we had planned to look for ITS2 profiles found in the coral samples in the environmental samples. I spent a lot of time writing code to search for the ITS2 type profiles but in the end this approach was abandoned because we did have a big enough selection of corals to really capture the full diversity of DIV abundances. As such we weren't finding many of the profiles in the environmental samples. \n",
    "\n",
    "Instead of this approach we will now aim for a much more simplified approach which will purely look at the diversities of ITS2 sequences in the coral samples and compare this to the diverstiy of sequences found in the environmental samples.\n",
    "\n",
    "As mentioned above there was originally a time component to the original samples collected. You will see in the info file that there are different collection dates. We will not be using any of these time replicate samples and only using the samples that werwe colleceted at the same time as the first batch of corals. You will also see that there were an additional set of corals that were collected at a second date and did not have a plot number associated with them. These will also be discarded.\n",
    "\n",
    "There was also a spatial consideration to the original data collection with there being 5 plots and the aim was to see whether environmental resevoirs were more specific to coral samples between and among the plots. However, due to the minimal number of environmental samples we are not able to take into account this aspect of the study so the plot factor will be ignored. \n",
    "\n",
    "You will see that that leaves us with a total of about 50 corals (although several sponge samples need to be removed) and associated mucus samples, 5 water samples, 5 close sediment samples (sampled at the base of the coral shelf), 5 far sediment samples (sampled 2m from the base of the coral shelf), and 10 turf algae samples.\n",
    "\n",
    "#### Sections\n",
    "* [Clean up data input](#Clean-up-data-input)\n",
    "* [Python code processing](#Python-code-processing)"
   ]
  },
  {
   "cell_type": "markdown",
   "metadata": {},
   "source": [
    "#### Clean up data input\n",
    "\n",
    "One of the first things to deal with is the info data that contains the metadata for the samples. This was in the form of an excel file that has some formating issues when exported in .csv (as always). We will clean that up below. * We can't type the ^M special character here so I will just say that we ran ```$sed 's/[,]+^M$//g' info_290819.csv > info_290819.csv```\n",
    "\n",
    "We have the SP outputs in this directory, the info.csv that needs cleaning up and the code for generating the figs."
   ]
  },
  {
   "cell_type": "code",
   "execution_count": null,
   "metadata": {},
   "outputs": [],
   "source": [
    "!ls"
   ]
  },
  {
   "cell_type": "code",
   "execution_count": null,
   "metadata": {},
   "outputs": [],
   "source": [
    "!head info_290819.csv"
   ]
  },
  {
   "cell_type": "code",
   "execution_count": null,
   "metadata": {},
   "outputs": [],
   "source": [
    "! head info_290819_fix.csv"
   ]
  },
  {
   "cell_type": "code",
   "execution_count": null,
   "metadata": {},
   "outputs": [],
   "source": [
    "! sed '/^\\s*$/d' info_290819_fix.csv > info_290819_fix_fix.csv"
   ]
  },
  {
   "cell_type": "code",
   "execution_count": null,
   "metadata": {},
   "outputs": [],
   "source": [
    "! head info_290819_fix_fix.csv"
   ]
  },
  {
   "cell_type": "code",
   "execution_count": null,
   "metadata": {},
   "outputs": [],
   "source": [
    "! tail info_290819_fix_fix.csv | cat -A"
   ]
  },
  {
   "cell_type": "code",
   "execution_count": null,
   "metadata": {},
   "outputs": [],
   "source": [
    "! sed -r 's/^,+$//g' info_290819_fix_fix.csv > info_290819_fix_fix_fix.csv"
   ]
  },
  {
   "cell_type": "code",
   "execution_count": null,
   "metadata": {},
   "outputs": [],
   "source": [
    "! tail info_290819_fix_fix_fix.csv"
   ]
  },
  {
   "cell_type": "code",
   "execution_count": null,
   "metadata": {},
   "outputs": [],
   "source": [
    "! ls"
   ]
  },
  {
   "cell_type": "code",
   "execution_count": null,
   "metadata": {},
   "outputs": [],
   "source": [
    "! mv info_290819_fix_fix_fix.csv info_300718.csv"
   ]
  },
  {
   "cell_type": "code",
   "execution_count": null,
   "metadata": {},
   "outputs": [],
   "source": [
    "! rm *2908*"
   ]
  },
  {
   "cell_type": "code",
   "execution_count": null,
   "metadata": {},
   "outputs": [],
   "source": [
    "! ls"
   ]
  },
  {
   "cell_type": "markdown",
   "metadata": {},
   "source": [
    "info_300718.csv is now our meta datafile that we will work with in the python processing"
   ]
  },
  {
   "cell_type": "code",
   "execution_count": null,
   "metadata": {},
   "outputs": [],
   "source": [
    "! head info_300718.csv"
   ]
  },
  {
   "cell_type": "markdown",
   "metadata": {},
   "source": [
    "#### Python code processing"
   ]
  },
  {
   "cell_type": "markdown",
   "metadata": {},
   "source": [
    "__Read in the info file and the SP output file__\n",
    "\n",
    "Then clean these up by dropping the samples that are not of the correct data. Then relate the SP output and info files so that they have the same names for the samples. Also pickle out the data_frames and have a check to see if they already exist.\n",
    "\n",
    "The warning spat out by pandas can be ignored in this case"
   ]
  },
  {
   "cell_type": "code",
   "execution_count": 1,
   "metadata": {},
   "outputs": [],
   "source": [
    "import pandas as pd\n",
    "import sys\n",
    "import pickle\n",
    "import os\n",
    "import matplotlib.pyplot as plt\n",
    "from collections import defaultdict\n",
    "import sys\n",
    "\n",
    "try:\n",
    "    sp_output_df = pickle.load(open('sp_output_df.pickle', 'rb'))\n",
    "    QC_info_df= pickle.load(open('QC_info_df.pickle', 'rb'))\n",
    "    info_df = pickle.load(open('info_df.pickle', 'rb'))\n",
    "except:\n",
    "    # read in the SymPortal output\n",
    "    sp_output_df = pd.read_csv('131_142.DIVs.absolute.txt', sep='\\t', lineterminator='\\n')\n",
    "\n",
    "    # The SP output contains the QC info columns between the DIVs and the no_name ITS2 columns.\n",
    "    # lets put the QC info columns into a seperate df.\n",
    "    QC_info_df = sp_output_df[['Samples','raw_contigs', 'post_qc_absolute_seqs', 'post_qc_unique_seqs',\n",
    "                            'post_taxa_id_absolute_symbiodinium_seqs', 'post_taxa_id_unique_symbiodinium_seqs',\n",
    "                            'post_taxa_id_absolute_non_symbiodinium_seqs', 'post_taxa_id_unique_non_symbiodinium_seqs',\n",
    "                               'size_screening_violation_absolute', 'size_screening_violation_unique',\n",
    "                               'post_med_absolute', 'post_med_unique']]\n",
    "\n",
    "    # now lets drop the QC columns from the SP output df and also drop the clade summation columns\n",
    "    # we will be left with just clumns for each one of the sequences found in the samples\n",
    "    sp_output_df.drop(columns=['noName Clade A', 'noName Clade B', 'noName Clade C', 'noName Clade D',\n",
    "                            'noName Clade E', 'noName Clade F', 'noName Clade G', 'noName Clade H',\n",
    "                            'noName Clade I', 'raw_contigs', 'post_qc_absolute_seqs', 'post_qc_unique_seqs',\n",
    "                            'post_taxa_id_absolute_symbiodinium_seqs', 'post_taxa_id_unique_symbiodinium_seqs',\n",
    "                            'post_taxa_id_absolute_non_symbiodinium_seqs', 'post_taxa_id_unique_non_symbiodinium_seqs',\n",
    "                               'size_screening_violation_absolute', 'size_screening_violation_unique',\n",
    "                               'post_med_absolute', 'post_med_unique'\n",
    "                               ]\n",
    "                      , inplace=True)\n",
    "\n",
    "    # read in the info file\n",
    "    info_df = pd.read_csv('info_300718.csv')\n",
    "\n",
    "    # drop the rows that aren't from the 22.08.2016 data\n",
    "    info_df = info_df[info_df['date collected'] == '22.08.2016']\n",
    "\n",
    "    # Now we need to link the SP output to the sample names in the excel. Annoyingly they are formatted\n",
    "    # slightly differently so we can't make a direct comparison.\n",
    "    # easiest way to link them is to see if the first part of the SP name is the same as the first part\n",
    "    # of the 'sequence file' in the meta info\n",
    "    # when doing this we can also drop the SP info for those samples that won't be used i.e. those that\n",
    "    # aren't now in the info_df\n",
    "\n",
    "    # firstly rename the colums so that they are 'sample_name' in all of the dfs\n",
    "    QC_info_df.rename(index=str, columns={'Samples': 'sample_name'}, inplace=True)\n",
    "    sp_output_df.rename(index=str, columns={'Samples': 'sample_name'}, inplace=True)\n",
    "    info_df.rename(index=str, columns={'Sample Name': 'sample_name'}, inplace=True)\n",
    "\n",
    "    indices_to_drop = []\n",
    "    for sp_index in sp_output_df.index.values.tolist():\n",
    "        # keep track of whether the sp_index was found in the info table\n",
    "        # if it wasn't then it should be dropped\n",
    "        found = False\n",
    "        for info_index in info_df.index.values.tolist():\n",
    "            if sp_output_df.loc[sp_index, 'sample_name'].split('_')[0] == info_df.loc[info_index, 'Sequence file'].split('_')[0]:\n",
    "                found = True\n",
    "                # then these are a related set of rows and we should make the sample_names the same\n",
    "                sp_output_df.loc[sp_index, 'sample_name'] = info_df.loc[info_index, 'sample_name']\n",
    "                QC_info_df.loc[sp_index, 'sample_name'] = info_df.loc[info_index, 'sample_name']\n",
    "\n",
    "\n",
    "        if not found:\n",
    "            indices_to_drop.append(sp_index)\n",
    "\n",
    "    # drop the rows from the SP output tables that aren't going to be used\n",
    "    sp_output_df.drop(inplace=True, index=indices_to_drop)\n",
    "    QC_info_df.drop(inplace=True, index=indices_to_drop)\n",
    "\n",
    "    # let's sort out the 'environ type' column in the info_df\n",
    "    # currently it is a bit of a mess\n",
    "    for index in info_df.index.values.tolist():\n",
    "        if 'coral' in info_df.loc[index, 'Sample no.']:\n",
    "            info_df.loc[index, 'environ type'] = 'coral'\n",
    "        elif 'seawater' in info_df.loc[index, 'Sample no.']:\n",
    "            info_df.loc[index, 'environ type'] = 'sea_water'\n",
    "        elif 'mucus' in info_df.loc[index, 'Sample no.']:\n",
    "            info_df.loc[index, 'environ type'] = 'mucus'\n",
    "        elif 'SA' in info_df.loc[index, 'Sample no.']:\n",
    "            info_df.loc[index, 'environ type'] = 'sed_close'\n",
    "        elif 'SB' in info_df.loc[index, 'Sample no.']:\n",
    "            info_df.loc[index, 'environ type'] = 'sed_far'\n",
    "        elif 'TA' in info_df.loc[index, 'Sample no.']:\n",
    "            info_df.loc[index, 'environ type'] = 'turf'\n",
    "\n",
    "    # now clean up the df indices\n",
    "    info_df.index = range(len(info_df))\n",
    "    sp_output_df.index = range(len(sp_output_df))\n",
    "    QC_info_df.index = range(len(QC_info_df))\n",
    "\n",
    "    # make the sample_name column the index for each of the datasets\n",
    "    info_df.set_index('sample_name', inplace=True)\n",
    "    sp_output_df.set_index('sample_name', inplace=True)\n",
    "    QC_info_df.set_index('sample_name', inplace=True)\n",
    "\n",
    "    # pickle the out put and put a check in place to see if we need to do the above\n",
    "    pickle.dump(sp_output_df, open('sp_output_df.pickle', 'wb'))\n",
    "    pickle.dump(QC_info_df, open('QC_info_df.pickle', 'wb'))\n",
    "    pickle.dump(info_df, open('info_df.pickle', 'wb'))"
   ]
  },
  {
   "cell_type": "code",
   "execution_count": null,
   "metadata": {},
   "outputs": [],
   "source": [
    "! ls"
   ]
  },
  {
   "cell_type": "code",
   "execution_count": null,
   "metadata": {},
   "outputs": [],
   "source": [
    "print(sp_output_df)"
   ]
  },
  {
   "cell_type": "code",
   "execution_count": null,
   "metadata": {},
   "outputs": [],
   "source": [
    "print(info_df)"
   ]
  },
  {
   "cell_type": "code",
   "execution_count": null,
   "metadata": {},
   "outputs": [],
   "source": [
    "print(QC_info_df)"
   ]
  },
  {
   "cell_type": "code",
   "execution_count": null,
   "metadata": {},
   "outputs": [],
   "source": [
    "! ls"
   ]
  },
  {
   "cell_type": "code",
   "execution_count": null,
   "metadata": {},
   "outputs": [],
   "source": [
    "print(seq_rel_abund_calculator_dict)"
   ]
  },
  {
   "cell_type": "markdown",
   "metadata": {},
   "source": [
    "__Create dictionary that will contain seq_name as key, value = tuple of (sample name with highest abundnce of the sequence, the rel abundance of the sequence)__\n",
    "\n",
    "See comments in code for further explanation"
   ]
  },
  {
   "cell_type": "code",
   "execution_count": 2,
   "metadata": {},
   "outputs": [],
   "source": [
    "# so we want to plot the ITS2 sequence diversity in each of the samples as bar charts\n",
    "# We are going to have a huge diversity of sequences to deal with so I think something along the lines\n",
    "# of plotting the top n most abundant sequences. The term 'most abundant' should be considered carefully here\n",
    "# I think it will be best if we work on a sample by sample basis. i.e. we pick the n sequences that have the\n",
    "# highest representation in any one sample. So for example what we are not doing is seeing how many times\n",
    "# C3 was sequenced across all of the samples, and finding that it is a lot and therefore plotting it.\n",
    "# we are looking in each of the samples and seeing the highest proportion it is found at in any one sample.\n",
    "# This way we should have the best chance of having a coloured representation for each sample's most abundant\n",
    "# sequence.\n",
    "\n",
    "# to start lets go sample by sample and see what the highest prop for each seq is.\n",
    "\n",
    "# dict to hold info on which sample and what the proportion is for each sequence\n",
    "# key = sequence name, value = tup ( sample name, relative abundance)\n",
    "try:\n",
    "    seq_rel_abund_calculator_dict = pickle.load(open('seq_rel_abund_calculator_dict.pickle', 'rb'))\n",
    "except:\n",
    "    seq_rel_abund_calculator_dict = {}\n",
    "    for sample_index in sp_output_df.index.values.tolist():\n",
    "        sys.stdout.write('\\nGeting rel seq abundances from {}\\n'.format(sample_index))\n",
    "        # temp_prop_array = sp_output_df.loc[sample_index].div(sp_output_df.loc[sample_index].sum(axis='index'))\n",
    "        temp_prop_array = sp_output_df.loc[sample_index].div(sp_output_df.loc[sample_index].sum())\n",
    "        for seq_name in temp_prop_array.keys():\n",
    "            sys.stdout.write('\\rseq: {}'.format(seq_name))\n",
    "            val = temp_prop_array[seq_name]\n",
    "            if val != 0:  # if the sequences was found in the sample\n",
    "                # If the sequence is already in the dict\n",
    "                if seq_name in seq_rel_abund_calculator_dict.keys():\n",
    "                    # check to seee if the rel abundance is larger than the one already logged\n",
    "                    if val > seq_rel_abund_calculator_dict[seq_name][1]:\n",
    "                        seq_rel_abund_calculator_dict[seq_name] = (sample_index, val)\n",
    "                # if we haven't logged for this sequence yet, then add this as the first log\n",
    "                else:\n",
    "                    seq_rel_abund_calculator_dict[seq_name] = (sample_index, val)\n",
    "    pickle.dump(seq_rel_abund_calculator_dict, open('seq_rel_abund_calculator_dict.pickle', 'wb'))"
   ]
  },
  {
   "cell_type": "markdown",
   "metadata": {},
   "source": [
    "__Create a sorted list of sequences where the first sequence has the highest rel abundance in any one given sample__"
   ]
  },
  {
   "cell_type": "code",
   "execution_count": 3,
   "metadata": {},
   "outputs": [],
   "source": [
    "# here we have a dict that contains the largest rel_abundances per sample for each of the seqs\n",
    "# now we can sort this to look at the top ? n sequences to start with (I'm not sure how the colouring will\n",
    "# look like so lets just start with 30 and see where we get to)\n",
    "sorted_list = sorted(seq_rel_abund_calculator_dict.items(), key = lambda x: x[1][1], reverse=True)\n",
    "most_abund_seq_names = [tup[0] for tup in sorted_list]"
   ]
  },
  {
   "cell_type": "markdown",
   "metadata": {},
   "source": [
    "__From this list create a colour dictionary which will hold the info for which sequences should be which colour and will keep the colours consistent between each of the subplots__"
   ]
  },
  {
   "cell_type": "code",
   "execution_count": 4,
   "metadata": {},
   "outputs": [],
   "source": [
    "def get_colour_list():\n",
    "    colour_list = [\"#FFFF00\", \"#1CE6FF\", \"#FF34FF\", \"#FF4A46\", \"#008941\", \"#006FA6\", \"#A30059\", \"#FFDBE5\",\n",
    "                  \"#7A4900\", \"#0000A6\", \"#63FFAC\", \"#B79762\", \"#004D43\", \"#8FB0FF\", \"#997D87\", \"#5A0007\", \"#809693\",\n",
    "                  \"#FEFFE6\", \"#1B4400\", \"#4FC601\", \"#3B5DFF\", \"#4A3B53\", \"#FF2F80\", \"#61615A\", \"#BA0900\", \"#6B7900\",\n",
    "                  \"#00C2A0\", \"#FFAA92\", \"#FF90C9\", \"#B903AA\", \"#D16100\", \"#DDEFFF\", \"#000035\", \"#7B4F4B\", \"#A1C299\",\n",
    "                  \"#300018\", \"#0AA6D8\", \"#013349\", \"#00846F\", \"#372101\", \"#FFB500\", \"#C2FFED\", \"#A079BF\", \"#CC0744\",\n",
    "                  \"#C0B9B2\", \"#C2FF99\", \"#001E09\", \"#00489C\", \"#6F0062\", \"#0CBD66\", \"#EEC3FF\", \"#456D75\", \"#B77B68\",\n",
    "                  \"#7A87A1\", \"#788D66\", \"#885578\", \"#FAD09F\", \"#FF8A9A\", \"#D157A0\", \"#BEC459\", \"#456648\", \"#0086ED\",\n",
    "                  \"#886F4C\", \"#34362D\", \"#B4A8BD\", \"#00A6AA\", \"#452C2C\", \"#636375\", \"#A3C8C9\", \"#FF913F\", \"#938A81\",\n",
    "                  \"#575329\", \"#00FECF\", \"#B05B6F\", \"#8CD0FF\", \"#3B9700\", \"#04F757\", \"#C8A1A1\", \"#1E6E00\", \"#7900D7\",\n",
    "                  \"#A77500\", \"#6367A9\", \"#A05837\", \"#6B002C\", \"#772600\", \"#D790FF\", \"#9B9700\", \"#549E79\", \"#FFF69F\",\n",
    "                  \"#201625\", \"#72418F\", \"#BC23FF\", \"#99ADC0\", \"#3A2465\", \"#922329\", \"#5B4534\", \"#FDE8DC\", \"#404E55\",\n",
    "                  \"#0089A3\", \"#CB7E98\", \"#A4E804\", \"#324E72\", \"#6A3A4C\", \"#83AB58\", \"#001C1E\", \"#D1F7CE\", \"#004B28\",\n",
    "                  \"#C8D0F6\", \"#A3A489\", \"#806C66\", \"#222800\", \"#BF5650\", \"#E83000\", \"#66796D\", \"#DA007C\", \"#FF1A59\",\n",
    "                  \"#8ADBB4\", \"#1E0200\", \"#5B4E51\", \"#C895C5\", \"#320033\", \"#FF6832\", \"#66E1D3\", \"#CFCDAC\", \"#D0AC94\",\n",
    "                  \"#7ED379\", \"#012C58\", \"#7A7BFF\", \"#D68E01\", \"#353339\", \"#78AFA1\", \"#FEB2C6\", \"#75797C\", \"#837393\",\n",
    "                  \"#943A4D\", \"#B5F4FF\", \"#D2DCD5\", \"#9556BD\", \"#6A714A\", \"#001325\", \"#02525F\", \"#0AA3F7\", \"#E98176\",\n",
    "                  \"#DBD5DD\", \"#5EBCD1\", \"#3D4F44\", \"#7E6405\", \"#02684E\", \"#962B75\", \"#8D8546\", \"#9695C5\", \"#E773CE\",\n",
    "                  \"#D86A78\", \"#3E89BE\", \"#CA834E\", \"#518A87\", \"#5B113C\", \"#55813B\", \"#E704C4\", \"#00005F\", \"#A97399\",\n",
    "                  \"#4B8160\", \"#59738A\", \"#FF5DA7\", \"#F7C9BF\", \"#643127\", \"#513A01\", \"#6B94AA\", \"#51A058\", \"#A45B02\",\n",
    "                  \"#1D1702\", \"#E20027\", \"#E7AB63\", \"#4C6001\", \"#9C6966\", \"#64547B\", \"#97979E\", \"#006A66\", \"#391406\",\n",
    "                  \"#F4D749\", \"#0045D2\", \"#006C31\", \"#DDB6D0\", \"#7C6571\", \"#9FB2A4\", \"#00D891\", \"#15A08A\", \"#BC65E9\",\n",
    "                  \"#FFFFFE\", \"#C6DC99\", \"#203B3C\", \"#671190\", \"#6B3A64\", \"#F5E1FF\", \"#FFA0F2\", \"#CCAA35\", \"#374527\",\n",
    "                  \"#8BB400\", \"#797868\", \"#C6005A\", \"#3B000A\", \"#C86240\", \"#29607C\", \"#402334\", \"#7D5A44\", \"#CCB87C\",\n",
    "                  \"#B88183\", \"#AA5199\", \"#B5D6C3\", \"#A38469\", \"#9F94F0\", \"#A74571\", \"#B894A6\", \"#71BB8C\", \"#00B433\",\n",
    "                  \"#789EC9\", \"#6D80BA\", \"#953F00\", \"#5EFF03\", \"#E4FFFC\", \"#1BE177\", \"#BCB1E5\", \"#76912F\", \"#003109\",\n",
    "                  \"#0060CD\", \"#D20096\", \"#895563\", \"#29201D\", \"#5B3213\", \"#A76F42\", \"#89412E\", \"#1A3A2A\", \"#494B5A\",\n",
    "                  \"#A88C85\", \"#F4ABAA\", \"#A3F3AB\", \"#00C6C8\", \"#EA8B66\", \"#958A9F\", \"#BDC9D2\", \"#9FA064\", \"#BE4700\",\n",
    "                  \"#658188\", \"#83A485\", \"#453C23\", \"#47675D\", \"#3A3F00\", \"#061203\", \"#DFFB71\", \"#868E7E\", \"#98D058\",\n",
    "                  \"#6C8F7D\", \"#D7BFC2\", \"#3C3E6E\", \"#D83D66\", \"#2F5D9B\", \"#6C5E46\", \"#D25B88\", \"#5B656C\", \"#00B57F\",\n",
    "                  \"#545C46\", \"#866097\", \"#365D25\", \"#252F99\", \"#00CCFF\", \"#674E60\", \"#FC009C\", \"#92896B\"]\n",
    "    return colour_list"
   ]
  },
  {
   "cell_type": "code",
   "execution_count": 5,
   "metadata": {},
   "outputs": [],
   "source": [
    "# from the above sorted list we can then plot these sequences with colour and all others with grey scale\n",
    "# lets make a coulour dictionary for the most common types\n",
    "colour_list = get_colour_list()\n",
    "colour_dict = {}\n",
    "num_coloured_seqs = 30\n",
    "\n",
    "# we will also need a grey palette for those sequences that are not the ones being annotated\n",
    "grey_palette = ['#D0CFD4', '#89888D', '#4A4A4C', '#8A8C82', '#D4D5D0', '#53544F']\n",
    "\n",
    "# make the dict\n",
    "for i in range(len(most_abund_seq_names)):\n",
    "    if i < num_coloured_seqs:\n",
    "        colour_dict[most_abund_seq_names[i]] = colour_list[i]\n",
    "    else:\n",
    "        colour_dict[most_abund_seq_names[i]] = grey_palette[i % 6]\n",
    "# add the 'low' key and assign it to grey for later on\n",
    "# the low category will be created later on to hold the grouped abundances of sequences in samples\n",
    "# below a certain rel abund cutoff\n",
    "colour_dict['low'] = '#D0CFD4'"
   ]
  },
  {
   "cell_type": "markdown",
   "metadata": {},
   "source": [
    "__Set up the structures for collecting the rectangle objects we will use for making the legend later on__\n",
    "\n",
    "See comments in the code for further details"
   ]
  },
  {
   "cell_type": "code",
   "execution_count": 6,
   "metadata": {},
   "outputs": [],
   "source": [
    "# for plotting we will also need to collect the 'rectangle' objects from the plotting process to use to make\n",
    "# the lengend which we will display on the plot right at the end\n",
    "# this is going to be a little tricky to collect as not ever sample type group that we are plotting\n",
    "# is going to have all of the top n sequences. So, we will have to pick up rectangles when they come up in\n",
    "# the plotting.\n",
    "# to keep track of which sequences we need we have:\n",
    "top_n_seqs_to_get = most_abund_seq_names[:num_coloured_seqs]\n",
    "# to keep track of which sequences we have already collected we have:\n",
    "top_n_seqs_done = []\n",
    "#finally to collect the rectangles and store them in order despite collecting them out of order we have:\n",
    "legend_rectangle_holder = [[] for i in range(num_coloured_seqs)]"
   ]
  },
  {
   "cell_type": "markdown",
   "metadata": {},
   "source": [
    "__Setup the figure as a set of sub plots, one for each of the sample types__"
   ]
  },
  {
   "cell_type": "code",
   "execution_count": 7,
   "metadata": {},
   "outputs": [],
   "source": [
    "%matplotlib inline"
   ]
  },
  {
   "cell_type": "markdown",
   "metadata": {},
   "source": [
    "__Do the plotting sample type by sample type__\n",
    "\n",
    "This will also involve collecting all of the information for plotting. We will do a little bit of processing here whereby we will group all sequences below a given rel abun cut off into a group called 'low'. If we don't do this then we simply end up with too many sequences to plot and work with. I think I am currently running with a rel_abund cutoff of 0.005 which is already pretty low. This leaves us with ~200 sequences to plot for the coral samples, a lot less for the other sample types e.g. turf.\n",
    "\n",
    "Normally I would make a 2D list that I would collect the plotting information in but in this case we will make a dataframe taht will only hold the information for the sample type in question.\n",
    "\n",
    "Because this code in in a for loop it will be a lot of code in one go but hopefully the comments are good enough to see what is going on."
   ]
  },
  {
   "cell_type": "code",
   "execution_count": 8,
   "metadata": {},
   "outputs": [
    {
     "name": "stdout",
     "output_type": "stream",
     "text": [
      "\n",
      "Generating plotting info for coral samples\n",
      "196/197\n",
      "Generating plotting info for mucus samples\n",
      "190/191\n",
      "Generating plotting info for sea_water samples\n",
      "58/595\n",
      "Generating plotting info for sed_close samples\n",
      "87/889\n",
      "Generating plotting info for sed_far samples\n",
      "80/810\n",
      "Generating plotting info for turf samples\n",
      "72/730"
     ]
    },
    {
     "data": {
      "image/png": "[encoded data removed]",
      "text/plain": [
       "<Figure size 432x288 with 6 Axes>"
      ]
     },
     "metadata": {},
     "output_type": "display_data"
    }
   ],
   "source": [
    "# set up the plotting environment\n",
    "# one plot for coral, mucus, seawater, sediment, turf_algae\n",
    "f, axarr = plt.subplots(6, 1)\n",
    "# counter to reference which set of axes we are plotting on\n",
    "axarr_index = 0\n",
    "\n",
    "# now we need to get the actual plotting information for each of the samples.\n",
    "# we can do this sample type by sample type\n",
    "# we will create a local dataframe that will be a sub set of the main sp output dataframe but will\n",
    "# only contain the samples of the given sample type. It will also eventually only contain the sequence\n",
    "# information for the sample type in question. Normally I would make a 2D list to hold the plotting\n",
    "# information but in this case having all of the informatin in a dataframe is working really well and\n",
    "# this is how I will do it in future.\n",
    "\n",
    "# go environment type by environment type\n",
    "for env_type in ['coral', 'mucus', 'sea_water', 'sed_close', 'sed_far', 'turf']:\n",
    "    sys.stdout.write('\\nGenerating plotting info for {} samples\\n'.format(env_type))\n",
    "    # currently we have something like 4000 sequences to plot which is too may\n",
    "    # I think it will be much easier if we group the sequences that are found below a certain\n",
    "    # threshold. I think the best way to do this is to create a slice of the main df that\n",
    "    # contain the information for the samples of the env_type only\n",
    "\n",
    "    # get subset of the main dfs that contain only the coral samples\n",
    "    env_info_df = info_df[info_df['environ type'] == env_type]\n",
    "    env_sp_output_df = sp_output_df.loc[env_info_df.index.values.tolist()]\n",
    "\n",
    "    # append a 'low' columns to the env_sp_ouput_df and populate with 0s\n",
    "    env_sp_output_df['low'] = 0\n",
    "    # now make a proportions version of the df, rather than absolute counts\n",
    "    env_sp_output_df_prop = env_sp_output_df[:].div(env_sp_output_df[:].sum(axis=1), axis=0)\n",
    "\n",
    "    # now as we work our way through we can sum up the low sequences into this column\n",
    "    # we can then check for 0 columns and drop these.\n",
    "\n",
    "    # get a list of the sequences found in the collection of samples of the given type and order\n",
    "    # them according to summed rel_abundance acorss all samples. This should be the order in which\n",
    "    # the samples are plotted\n",
    "    # at the same time we can get the info we need for plotting\n",
    "\n",
    "    summed_seq_rel_abund_across_smpls_dict = {seq: 0 for seq in list(sp_output_df)}\n",
    "\n",
    "    # we are also going to need to put the samples in an order that makes sense.\n",
    "    # Ideally I would like to take the time to do a proper travelling salesman analysis\n",
    "    # and I was thinking of putting in an ant colony system to do this but...\n",
    "    # I'm not sure we've got time for that. So let's do something a little more simple which\n",
    "    # should still be effective and look groovy\n",
    "    # Lets sort according to the majority sequence. I.e. lets put the samples into groups that\n",
    "    # are defined by what their majorty sequence is, then lets plot in order of those groups.\n",
    "    # within the groups we will plot in the order of the most abundant rel abund first.\n",
    "    # to get this information we will have a dict to collect it. The key of the dict will\n",
    "    # be the majority sequence with the value being a list that contains tuples. One tuple\n",
    "    # for each sample in the list which will contain the sample_name and the re abund of the maj seq\n",
    "\n",
    "    # Dict for holding the sample_sorting info\n",
    "    sample_sorting_info_dict = defaultdict(list)\n",
    "\n",
    "    for sp_index in env_sp_output_df_prop.index.values.tolist():\n",
    "        sys.stdout.write('\\r{}'.format(sp_index))\n",
    "        # we need to get the name of the most abundant sequence and its rel abund for each sample\n",
    "        # for the sample_sorting_info_dict\n",
    "        most_abund_seq_name = env_sp_output_df_prop.loc[sp_index].idxmax(axis='index')\n",
    "        rel_abund_of_most_abund_seq = env_sp_output_df_prop.loc[sp_index, most_abund_seq_name]\n",
    "        sample_sorting_info_dict[most_abund_seq_name].append((sp_index, rel_abund_of_most_abund_seq))\n",
    "        # Put its seq rel abundances ino the summed_seq_rel_abund_across... dict\n",
    "\n",
    "        for non_zero_seq in env_sp_output_df_prop.loc[sp_index][env_sp_output_df_prop.loc[sp_index] > 0].index:  # not including the final 'low' columns (this will be zero)\n",
    "            val = env_sp_output_df_prop.loc[sp_index, non_zero_seq]\n",
    "            # be sure to count the value of this cell and using it in judging which are the most\n",
    "            # abundant sequences before we check whether to relegate it to the 'low' column\n",
    "            summed_seq_rel_abund_across_smpls_dict[non_zero_seq] += val\n",
    "            if val < 0.005:\n",
    "                env_sp_output_df_prop.loc[sp_index, 'low'] += val\n",
    "                env_sp_output_df_prop.loc[sp_index, non_zero_seq] = 0\n",
    "\n",
    "\n",
    "    # here we can get a sorted sample list using the sample_sorting_info_dict\n",
    "    sorted_sample_list = []\n",
    "    # we want to work through the sample_sorting_info_dict by the longest lists first\n",
    "    sorted_keys_for_sample_sort = \\\n",
    "        [tup[0] for tup in sorted(sample_sorting_info_dict.items(), key=lambda x: len(x[1]), reverse=True)]\n",
    "    # for each of teh maj seq groups\n",
    "    for sorted_key in sorted_keys_for_sample_sort:\n",
    "        # now within each of these lists we want to order according to the rel_abundance of the sequences\n",
    "        sorted_list_of_samples_of_group = [tup[0] for tup in sorted(sample_sorting_info_dict[sorted_key], key=lambda x: x[1], reverse=True)]\n",
    "        sorted_sample_list.extend(sorted_list_of_samples_of_group)\n",
    "\n",
    "    # now we should re-order the df so that it is in the sample order of sorted_sample_list\n",
    "    env_sp_output_df_prop = env_sp_output_df_prop.reindex(sorted_sample_list)\n",
    "\n",
    "    # here we have a dict that contains the abundances of the seqs for the coral samples\n",
    "    # we will plot the coral samples' seqs in the order of the sequences in this dict\n",
    "    sorted_list_of_env_specific_seqs_tup \\\n",
    "        = sorted(summed_seq_rel_abund_across_smpls_dict.items(), key=lambda x: x[1], reverse=True)\n",
    "    sorted_list_of_env_specific_seqs = [tup[0] for tup in sorted_list_of_env_specific_seqs_tup]\n",
    "\n",
    "    # Now we check for zero only columns and drop them\n",
    "    # we also need to remove these columns from the sorted\n",
    "    non_zero_cols = list(env_sp_output_df_prop.loc[:, (env_sp_output_df_prop != 0).any(axis=0)])\n",
    "    sorted_list_of_env_specific_seqs = [seq for seq in sorted_list_of_env_specific_seqs if seq in non_zero_cols]\n",
    "\n",
    "    # add the 'low' column\n",
    "    sorted_list_of_env_specific_seqs.append('low')\n",
    "\n",
    "    # now drop the cols\n",
    "    env_sp_output_df_prop = env_sp_output_df_prop[non_zero_cols]\n",
    "\n",
    "    # we also have the plotting list which contains the info we will be plotting.\n",
    "\n",
    "    # the plotting_list is currently organised in a different order to that of the sorted_list_of_env...\n",
    "    # we need to change this order\n",
    "    env_sp_output_df_prop = env_sp_output_df_prop[sorted_list_of_env_specific_seqs]\n",
    "\n",
    "    # we now need to transpose this\n",
    "    env_sp_output_df_prop = env_sp_output_df_prop.transpose()\n",
    "\n",
    "    # here we finally have the plotting lists in the order of the sorted_list_of_env\n",
    "    bottom = [0 for smp in list(env_sp_output_df_prop)]\n",
    "    bar_list = []\n",
    "    # for each sample\n",
    "    plotting_indices = range(len(list(env_sp_output_df_prop)))\n",
    "\n",
    "    # for each sequence\n",
    "    list_of_seqs = env_sp_output_df_prop.index.values.tolist()\n",
    "    for i in range(len(list_of_seqs)):\n",
    "\n",
    "        sys.stdout.write('\\r{}/{}'.format(i, len(list(env_sp_output_df_prop.iloc[:, 0]))))\n",
    "        bar_list.append(axarr[axarr_index].bar(plotting_indices, list(env_sp_output_df_prop.iloc[i]), 1, bottom,\n",
    "                                               color=colour_dict[sorted_list_of_env_specific_seqs[i]]))\n",
    "        bottom = [L + M for L, M in zip(bottom, list(env_sp_output_df_prop.iloc[i]))]\n",
    "\n",
    "        # check to see if the seq we are plotting is still in the top_n_seqs list\n",
    "        # if it is in this list then we still need to grab a rectangle for plotting\n",
    "        # the legend. Once we have grabbed the rectangle then we should remove the seq from the top_n_seqs list\n",
    "        seq_name = list_of_seqs[i]\n",
    "        top_n_seqs_done = []\n",
    "        if seq_name in top_n_seqs_to_get and seq_name not in top_n_seqs_done:\n",
    "            # then this is a seq that we still need to get a rectangle for the legend\n",
    "            legend_rectangle_holder[top_n_seqs_to_get.index(seq_name)].append(bar_list[-1][0])\n",
    "            top_n_seqs_done.append(seq_name)\n",
    "\n",
    "    # https://stackoverflow.com/questions/12998430/remove-xticks-in-a-matplotlib-plot\n",
    "    axarr[axarr_index].tick_params(axis='x', which='both', bottom=False, top=False, labelbottom=False)\n",
    "    # https://stackoverflow.com/questions/15858192/how-to-set-xlim-and-ylim-for-a-subplot-in-matplotlib\n",
    "    axarr[axarr_index].set_xlim((-0.5, (len(list(env_sp_output_df_prop)) - 0.5)))\n",
    "    # https://stackoverflow.com/questions/925024/how-can-i-remove-the-top-and-right-axis-in-matplotlib\n",
    "    axarr[axarr_index].spines['right'].set_visible(False)\n",
    "    axarr[axarr_index].spines['top'].set_visible(False)\n",
    "\n",
    "    # To make the legend for this mo fo is going to be a little tricky. The legend argument basically takes\n",
    "    # two lists. The first list should contain a rectangle object for each of the sequences (this\n",
    "    # will be the coloured box). We get this object from the bar objects that we are creating.\n",
    "    # The second list is a list of the labels. This should be easier. We can just use the\n",
    "    # most_abund_seq_names[:30] for these.\n",
    "    # to grab the rectangles, I think its best to pick them up during the plotting and hold them in a list\n",
    "    # outside of the subplot loop. We will need a holder for the objects to populate.\n",
    "\n",
    "    #https://matplotlib.org/api/_as_gen/matplotlib.axes.Axes.set_xticks.html#matplotlib.axes.Axes.set_xticks\n",
    "    axarr[axarr_index].set_yticks([1], minor=False)\n",
    "    #https://matplotlib.org/api/_as_gen/matplotlib.axes.Axes.set_xticklabels.html#matplotlib.axes.Axes.set_xticklabels\n",
    "    axarr[axarr_index].set_yticklabels(['1'])\n",
    "    axarr[axarr_index].set_xlabel(env_type)\n",
    "\n",
    "\n",
    "\n",
    "    axarr_index += 1\n",
    "\n",
    "#https://stackoverflow.com/questions/16150819/common-xlabel-ylabel-for-matplotlib-subplots/26892326\n",
    "f.text(0, 0.5, 'ITS2 sequence relative abundance', va='center', rotation='vertical')\n",
    "ordered_rectange_list = [sub_list[0] for sub_list in legend_rectangle_holder]\n",
    "# Uncomment when running locally to make the actual figure\n",
    "# f.legend(ordered_rectange_list, top_n_seqs_to_get, loc='lower center')\n",
    "\n",
    "plt.tight_layout()\n",
    "f.savefig('diversity_bars.svg')\n",
    "#Uncomment for running in local environment. Causes a crash in Jupyter\n",
    "#f.show()"
   ]
  }
 ],
 "metadata": {
  "kernelspec": {
   "display_name": "Python 3",
   "language": "python",
   "name": "python3"
  },
  "language_info": {
   "codemirror_mode": {
    "name": "ipython",
    "version": 3
   },
   "file_extension": ".py",
   "mimetype": "text/x-python",
   "name": "python",
   "nbconvert_exporter": "python",
   "pygments_lexer": "ipython3",
   "version": "3.6.2"
  }
 },
 "nbformat": 4,
 "nbformat_minor": 2
}
